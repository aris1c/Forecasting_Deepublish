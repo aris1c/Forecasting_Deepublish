{
  "nbformat": 4,
  "nbformat_minor": 0,
  "metadata": {
    "colab": {
      "private_outputs": true,
      "provenance": [],
      "toc_visible": true
    },
    "kernelspec": {
      "name": "python3",
      "display_name": "Python 3"
    },
    "language_info": {
      "name": "python"
    }
  },
  "cells": [
    {
      "cell_type": "code",
      "execution_count": null,
      "metadata": {
        "id": "ECYaFaooAD7l"
      },
      "outputs": [],
      "source": [
        "from google.colab import drive\n",
        "drive.mount('/content/drive')"
      ]
    },
    {
      "cell_type": "code",
      "source": [
        "import os\n",
        "myDirFiles = \"/content/drive/MyDrive/Deepublish Intern\"\n",
        "os.chdir(myDirFiles)"
      ],
      "metadata": {
        "id": "XvygA13yA6wQ"
      },
      "execution_count": null,
      "outputs": []
    },
    {
      "cell_type": "code",
      "source": [
        "!ls"
      ],
      "metadata": {
        "id": "88RmXdg1BCCM"
      },
      "execution_count": null,
      "outputs": []
    },
    {
      "cell_type": "code",
      "source": [
        "import pandas as pd\n",
        "import numpy as np\n",
        "import matplotlib.pyplot as plt\n",
        "%matplotlib inline\n",
        "import seaborn as sns"
      ],
      "metadata": {
        "id": "9THaI7hEBFzR"
      },
      "execution_count": null,
      "outputs": []
    },
    {
      "cell_type": "markdown",
      "source": [
        "#Load Dataset"
      ],
      "metadata": {
        "id": "pqO2P7HFzUdY"
      }
    },
    {
      "cell_type": "markdown",
      "source": [
        "Deskripsi:\n",
        "\n",
        "1. Deadline : Tanggal pemesanan\n",
        "2. reseller : Penjual\n",
        "3. Pic  : ....\n",
        "4. Judul : Judul buku\n",
        "5. order: jumlah pembelian\n",
        "6. alamat\n",
        "7. notelp\n",
        "8. provinsi\n",
        "9. kategori 1\n",
        "10. kategori 2\n",
        "11. kategori 3\n",
        "12. Tahun\n",
        "13. Penulis\n",
        "14. isbn\n",
        "15. kabupaten\n",
        "16. sku"
      ],
      "metadata": {
        "id": "YCVrfsdZz8Xs"
      }
    },
    {
      "cell_type": "code",
      "source": [
        "df1 = pd.read_excel(\"Dataset Internship Deepublish.xls\", sheet_name='orderds')\n",
        "df1.head()"
      ],
      "metadata": {
        "id": "wkb3yA7nz7L7"
      },
      "execution_count": null,
      "outputs": []
    },
    {
      "cell_type": "code",
      "source": [
        "df1.shape"
      ],
      "metadata": {
        "id": "V_yDrv7s1CwB"
      },
      "execution_count": null,
      "outputs": []
    },
    {
      "cell_type": "code",
      "source": [
        "df2 = pd.read_excel(\"Dataset Internship Deepublish 2.xls\", sheet_name='orderds(2)', header=None)\n",
        "df2.head()"
      ],
      "metadata": {
        "id": "t0YytXtC1Fit"
      },
      "execution_count": null,
      "outputs": []
    },
    {
      "cell_type": "code",
      "source": [
        "df2.shape"
      ],
      "metadata": {
        "id": "9PZ9rH4r1TwP"
      },
      "execution_count": null,
      "outputs": []
    },
    {
      "cell_type": "markdown",
      "source": [
        "#Data Preparation"
      ],
      "metadata": {
        "id": "J3Drf8rO1dmy"
      }
    },
    {
      "cell_type": "markdown",
      "source": [
        "##DF 1"
      ],
      "metadata": {
        "id": "a_a_Thi1AKTL"
      }
    },
    {
      "cell_type": "code",
      "source": [
        "if (df1['penulis'] == '2021').any():\n",
        "    print(\"Kolom penulis memiliki data yang berisikan tahun\")\n",
        "else:\n",
        "    print(\"Kolom penulis tidak memiliki data yang berisikan tahun\")"
      ],
      "metadata": {
        "id": "W2Bnfldl1hMi"
      },
      "execution_count": null,
      "outputs": []
    },
    {
      "cell_type": "code",
      "source": [
        "for i, row in df1.iterrows():\n",
        "    # Cek apakah data pada kolom penulis adalah digit\n",
        "    if str(df1.at[i, 'penulis']).isdigit():\n",
        "        # Pindahkan data dari kolom penulis ke kolom tahun\n",
        "        df1.at[i, 'tahun'] = df1.at[i, 'penulis']\n",
        "        df1.at[i, 'penulis'] = None"
      ],
      "metadata": {
        "id": "abrRouxo3vJ7"
      },
      "execution_count": null,
      "outputs": []
    },
    {
      "cell_type": "code",
      "source": [
        "# Cek apakah masih ada data berupa digit di kolom 12\n",
        "if (df1['penulis'] == '2021').any():\n",
        "    print(\"Kolom penulis memiliki data yang berisikan 'tahun'\")\n",
        "else:\n",
        "    print(\"Kolom penulis tidak memiliki data yang berisikan 'tahun'\")"
      ],
      "metadata": {
        "id": "3EjduGwT6j9L"
      },
      "execution_count": null,
      "outputs": []
    },
    {
      "cell_type": "code",
      "source": [
        "tipe_data_isbn = df1['isbn'].dtypes\n",
        "print(\"Tipe data kolom 'isbn':\", tipe_data_isbn)"
      ],
      "metadata": {
        "id": "q6oQHrrT60a1"
      },
      "execution_count": null,
      "outputs": []
    },
    {
      "cell_type": "markdown",
      "source": [
        "**Karna pada kolom isbn terdapat nama penulis, dan tidak memungkinkan untuk dipindahkan dengan fungsi if, karna data pada ISBN juga string. Sehingga digunakan masking untukk  mengisi data penulis yang kosong dengan data yang ada di ISBN yang berada pada baris data yang sama.**"
      ],
      "metadata": {
        "id": "k3hNR3o065MP"
      }
    },
    {
      "cell_type": "code",
      "source": [
        "# Checking Null Data\n",
        "df1.isnull().sum()"
      ],
      "metadata": {
        "id": "icnOo5yp6-LR"
      },
      "execution_count": null,
      "outputs": []
    },
    {
      "cell_type": "code",
      "source": [
        "df1['penulis'].fillna(df1['isbn'], inplace=True)"
      ],
      "metadata": {
        "id": "fyXMQaRH_7g8"
      },
      "execution_count": null,
      "outputs": []
    },
    {
      "cell_type": "code",
      "source": [
        "# Checking Null Data\n",
        "df1.isnull().sum()"
      ],
      "metadata": {
        "id": "XCVyCKtLADf4"
      },
      "execution_count": null,
      "outputs": []
    },
    {
      "cell_type": "code",
      "source": [
        "df1.head()"
      ],
      "metadata": {
        "id": "1xkT5YzEAGuB"
      },
      "execution_count": null,
      "outputs": []
    },
    {
      "cell_type": "markdown",
      "source": [
        "##DF 2"
      ],
      "metadata": {
        "id": "dbmf6tBBAVIl"
      }
    },
    {
      "cell_type": "code",
      "source": [
        "if (df2[12] == '2021').any():\n",
        "    print(\"Kolom ke-12 memiliki data yang berisikan 'tahun'\")\n",
        "else:\n",
        "    print(\"Kolom ke-12 tidak memiliki data yang berisikan 'tahun'\")"
      ],
      "metadata": {
        "id": "0_xu_mXaAikd"
      },
      "execution_count": null,
      "outputs": []
    },
    {
      "cell_type": "code",
      "source": [
        "for i, row in df2.iterrows():\n",
        "    # Cek apakah data pada kolom 12 adalah digit\n",
        "    if str(df2.at[i, 12]).isdigit():\n",
        "        # Pindahkan data dari kolom 12 ke kolom 11\n",
        "        df2.at[i, 11] = df2.at[i, 12]\n",
        "        df2.at[i, 12] = None"
      ],
      "metadata": {
        "id": "XkwY-xqlAm0_"
      },
      "execution_count": null,
      "outputs": []
    },
    {
      "cell_type": "code",
      "source": [
        "# Cek apakah masih ada data berupa digit di kolom 12\n",
        "if (df2[12] == '2021').any():\n",
        "    print(\"Kolom ke-12 memiliki data yang berisikan tahun\")\n",
        "else:\n",
        "    print(\"Kolom ke-12 tidak memiliki data yang berisikan tahun\")"
      ],
      "metadata": {
        "id": "LspOL3KoAsUL"
      },
      "execution_count": null,
      "outputs": []
    },
    {
      "cell_type": "code",
      "source": [
        "# Checking Null Data\n",
        "df2.isnull().sum()"
      ],
      "metadata": {
        "id": "FfgFjpg4Ax6E"
      },
      "execution_count": null,
      "outputs": []
    },
    {
      "cell_type": "markdown",
      "source": [
        "**Karna pada kolom isbn terdapat nama penulis, dan tidak memungkinkan untuk dipindahkan dengan fungsi if, karna data pada ISBN juga string. Sehingga digunakan masking untukk  mengisi data penulis yang kosong dengan data yang ada di ISBN yang berada pada baris data yang sama.**"
      ],
      "metadata": {
        "id": "3TtwV1ZnA0L4"
      }
    },
    {
      "cell_type": "code",
      "source": [
        "df2[12].fillna(df2[13], inplace=True)"
      ],
      "metadata": {
        "id": "oZXRKqttA9qu"
      },
      "execution_count": null,
      "outputs": []
    },
    {
      "cell_type": "code",
      "source": [
        "# Checking Null Data\n",
        "df2.isnull().sum()"
      ],
      "metadata": {
        "id": "PcdlTdGrA_si"
      },
      "execution_count": null,
      "outputs": []
    },
    {
      "cell_type": "code",
      "source": [
        "df2.head()"
      ],
      "metadata": {
        "id": "U_Ip_6ruBBfR"
      },
      "execution_count": null,
      "outputs": []
    },
    {
      "cell_type": "markdown",
      "source": [
        "#Data Gabungan DF1 & DF2"
      ],
      "metadata": {
        "id": "NBDnIlKtBRwZ"
      }
    },
    {
      "cell_type": "markdown",
      "source": [
        "**Karna jumlah kolom yang berbeda maka pada df2 kita hapuskan kolom 15 dan 16 yaitu harga**"
      ],
      "metadata": {
        "id": "68PEF0XwBcA5"
      }
    },
    {
      "cell_type": "code",
      "source": [
        "df2.drop(columns=[15, 16], inplace=True)"
      ],
      "metadata": {
        "id": "BljBvw1FBXLm"
      },
      "execution_count": null,
      "outputs": []
    },
    {
      "cell_type": "code",
      "source": [
        "df2.head()"
      ],
      "metadata": {
        "id": "G8RkQuohBht1"
      },
      "execution_count": null,
      "outputs": []
    },
    {
      "cell_type": "code",
      "source": [
        "df1.shape"
      ],
      "metadata": {
        "id": "cseNYucNBmMk"
      },
      "execution_count": null,
      "outputs": []
    },
    {
      "cell_type": "code",
      "source": [
        "df2.shape"
      ],
      "metadata": {
        "id": "Mz1oDMpMBnCC"
      },
      "execution_count": null,
      "outputs": []
    },
    {
      "cell_type": "code",
      "source": [
        "df1.columns"
      ],
      "metadata": {
        "id": "S-beq08dBpQr"
      },
      "execution_count": null,
      "outputs": []
    },
    {
      "cell_type": "code",
      "source": [
        "df2.columns"
      ],
      "metadata": {
        "id": "Fj3u7hv6BsWW"
      },
      "execution_count": null,
      "outputs": []
    },
    {
      "cell_type": "code",
      "source": [
        "#mengubah nama kolom di df2\n",
        "df2.rename(columns = {0:'deadline',\n",
        "                      1:'pic',\n",
        "                      2:'reseller',\n",
        "                      3:'judul',\n",
        "                      4:'order',\n",
        "                      5:'alamat',\n",
        "                      6:'notelp',\n",
        "                      7:'provinsi',\n",
        "                      8:'kategori1',\n",
        "                      9:'kategori2',\n",
        "                      10:'kategori3',\n",
        "                      11:'tahun',\n",
        "                      12:'penulis',\n",
        "                      13:'isbn',\n",
        "                      14:'kabupaten',\n",
        "                      17:'sku'}, inplace = True)"
      ],
      "metadata": {
        "id": "VwnNk-KaB2An"
      },
      "execution_count": null,
      "outputs": []
    },
    {
      "cell_type": "code",
      "source": [
        "df=df1.append(df2)"
      ],
      "metadata": {
        "id": "9XqsmOzNB7AY"
      },
      "execution_count": null,
      "outputs": []
    },
    {
      "cell_type": "code",
      "source": [
        "df.shape"
      ],
      "metadata": {
        "id": "tCmcXP8xdHl9"
      },
      "execution_count": null,
      "outputs": []
    },
    {
      "cell_type": "code",
      "source": [
        "df.head()"
      ],
      "metadata": {
        "id": "MaOX4CFKfEYm"
      },
      "execution_count": null,
      "outputs": []
    },
    {
      "cell_type": "code",
      "source": [
        "df.tail()"
      ],
      "metadata": {
        "id": "ILvl9tMHfJRE"
      },
      "execution_count": null,
      "outputs": []
    },
    {
      "cell_type": "markdown",
      "source": [
        "#Check Data Null"
      ],
      "metadata": {
        "id": "IdFzlXEyfLz2"
      }
    },
    {
      "cell_type": "code",
      "source": [
        "# Checking Null Data\n",
        "df.isnull().sum()"
      ],
      "metadata": {
        "id": "5In6y-uIfPRu"
      },
      "execution_count": null,
      "outputs": []
    },
    {
      "cell_type": "code",
      "source": [
        "data_kosong = df[df['penulis'].isnull()]\n",
        "print(data_kosong)"
      ],
      "metadata": {
        "id": "NowqFI9bfSes"
      },
      "execution_count": null,
      "outputs": []
    },
    {
      "cell_type": "markdown",
      "source": [
        "#Remove Null Values"
      ],
      "metadata": {
        "id": "Yzbf3r1Nf4U0"
      }
    },
    {
      "cell_type": "code",
      "source": [
        "df.dropna(subset='deadline', inplace=True)"
      ],
      "metadata": {
        "id": "sBpRrM2nf73E"
      },
      "execution_count": null,
      "outputs": []
    },
    {
      "cell_type": "code",
      "source": [
        "df.isnull().sum()"
      ],
      "metadata": {
        "id": "Wr5RAtxxf_Lu"
      },
      "execution_count": null,
      "outputs": []
    },
    {
      "cell_type": "code",
      "source": [],
      "metadata": {
        "id": "496ekH0RgBXZ"
      },
      "execution_count": null,
      "outputs": []
    },
    {
      "cell_type": "markdown",
      "source": [
        "#Remove Some Columns"
      ],
      "metadata": {
        "id": "MZCUwsJtgDJj"
      }
    },
    {
      "cell_type": "code",
      "source": [
        "df.drop(['alamat', 'notelp', 'kabupaten', 'sku'], axis=1, inplace=True)"
      ],
      "metadata": {
        "id": "5ikZi6n0gGZB"
      },
      "execution_count": null,
      "outputs": []
    },
    {
      "cell_type": "code",
      "source": [
        "df.head()"
      ],
      "metadata": {
        "id": "yg3j8bFvqZ1T"
      },
      "execution_count": null,
      "outputs": []
    },
    {
      "cell_type": "code",
      "source": [
        "# Checking Null Data\n",
        "df.isnull().sum()"
      ],
      "metadata": {
        "id": "uh1BAyTNqeb3"
      },
      "execution_count": null,
      "outputs": []
    },
    {
      "cell_type": "markdown",
      "source": [
        "#Remove Barus Closing"
      ],
      "metadata": {
        "id": "xcUSaiFOqhh1"
      }
    },
    {
      "cell_type": "code",
      "source": [
        "# Membuat ekspresi reguler untuk mencari kata-kata dengan pola yang sesuai\n",
        "pattern = r\"CLOSE+E*\"\n",
        "\n",
        "# Mengekstrak baris yang memiliki kata dengan pola yang sesuai di kolom \"judul\"\n",
        "result = df[df['judul'].str.contains(pattern, case=False, na=False, regex=True)]\n",
        "\n",
        "# Menampilkan hasil\n",
        "print(result)"
      ],
      "metadata": {
        "id": "5P6ZXmMSqk-z"
      },
      "execution_count": null,
      "outputs": []
    },
    {
      "cell_type": "code",
      "source": [
        "# Mengambil indeks baris yang ingin dihapus\n",
        "indeks_baris_dihapus = result.index\n",
        "\n",
        "# Menghapus baris dengan indeks yang ditemukan\n",
        "dfnew= df.drop(indeks_baris_dihapus)"
      ],
      "metadata": {
        "id": "z0hJ4vMEre4v"
      },
      "execution_count": null,
      "outputs": []
    },
    {
      "cell_type": "code",
      "source": [
        "dfnew.shape"
      ],
      "metadata": {
        "id": "IxFuJnFArhgv"
      },
      "execution_count": null,
      "outputs": []
    },
    {
      "cell_type": "code",
      "source": [
        "dfnew.head()"
      ],
      "metadata": {
        "id": "AczZ04lfrjxD"
      },
      "execution_count": null,
      "outputs": []
    },
    {
      "cell_type": "code",
      "source": [
        "# Checking Null Data\n",
        "dfnew.isnull().sum()"
      ],
      "metadata": {
        "id": "HthtZeQ2roF3"
      },
      "execution_count": null,
      "outputs": []
    },
    {
      "cell_type": "code",
      "source": [
        "dfnew.head(25)"
      ],
      "metadata": {
        "id": "XRnKTDeGrr-8"
      },
      "execution_count": null,
      "outputs": []
    },
    {
      "cell_type": "markdown",
      "source": [
        "#Insight"
      ],
      "metadata": {
        "id": "ZQ4aByKBr06D"
      }
    },
    {
      "cell_type": "markdown",
      "source": [
        "##1. Top 10 Penulis dengan penjualan terbanyak"
      ],
      "metadata": {
        "id": "I-mg2P-tr3Hn"
      }
    },
    {
      "cell_type": "code",
      "source": [
        "top_writer = dfnew.groupby('penulis')['order'].sum().sort_values(ascending=False)\n",
        "top_writer.head(10)"
      ],
      "metadata": {
        "id": "cahwr9ZJtO8g"
      },
      "execution_count": null,
      "outputs": []
    },
    {
      "cell_type": "code",
      "source": [
        "# Mengelompokkan data berdasarkan penulis dan menjumlahkan penjualan buku\n",
        "penulis_penjualan = dfnew.groupby('penulis')['order'].sum().reset_index()\n",
        "\n",
        "# Mengurutkan data berdasarkan total penjualan buku\n",
        "penulis_penjualan = penulis_penjualan.sort_values(by='order', ascending=False)\n",
        "\n",
        "# Memilih 5 penulis teratas\n",
        "top_10_penulis = penulis_penjualan.head(10)\n",
        "\n",
        "# Membuat diagram batang dengan warna pastel\n",
        "colors = ['lightblue', 'lightgreen', 'lightcoral', 'lightsalmon', 'lightseagreen']\n",
        "plt.figure(figsize=(10, 6))\n",
        "bars = plt.bar(top_10_penulis['penulis'], top_10_penulis['order'], color=colors)\n",
        "plt.xlabel('Penulis')\n",
        "plt.ylabel('Penjualan Buku')\n",
        "plt.title('Top 10 Penulis dengan Penjualan Buku Terbanyak')\n",
        "plt.xticks(rotation=45)\n",
        "\n",
        "# Menampilkan nama penulis di atas setiap bar\n",
        "for bar in bars:\n",
        "    plt.text(bar.get_x() + bar.get_width() / 2, bar.get_height(), int(bar.get_height()), ha='center', va='bottom')\n",
        "\n",
        "plt.show()"
      ],
      "metadata": {
        "id": "v_dgEE0Rtlnc"
      },
      "execution_count": null,
      "outputs": []
    },
    {
      "cell_type": "markdown",
      "source": [
        "##2. Korelasi antara penulis dengan penjualan buku"
      ],
      "metadata": {
        "id": "CYHppu-huaIN"
      }
    },
    {
      "cell_type": "code",
      "source": [
        "writer_counts = dfnew.groupby('penulis')['judul'].nunique().sort_values(ascending=False)\n",
        "writer_counts"
      ],
      "metadata": {
        "id": "ynD2rUXgFHad"
      },
      "execution_count": null,
      "outputs": []
    },
    {
      "cell_type": "code",
      "source": [
        "writer_data = pd.DataFrame({\n",
        "    'Total_sales': top_writer,\n",
        "    'Number of books': writer_counts\n",
        "})\n",
        "\n",
        "#find correlation\n",
        "correlation = writer_data.corr().iloc[0,1]\n",
        "print(\"Correlation value: \", correlation)"
      ],
      "metadata": {
        "id": "7vXAFrCPFRS2"
      },
      "execution_count": null,
      "outputs": []
    },
    {
      "cell_type": "markdown",
      "source": [
        "##Provinsi dengan penjualan buku"
      ],
      "metadata": {
        "id": "9pJOdjnFFUD5"
      }
    },
    {
      "cell_type": "code",
      "source": [
        "# Mengelompokkan penjualan berdasarkan provinsi\n",
        "provinsi_penjualan = dfnew.groupby('provinsi')['order'].sum().reset_index()\n",
        "\n",
        "# Mengurutkan data berdasarkan total penjualan buku\n",
        "provinsi_penjualan = provinsi_penjualan.sort_values(by='order', ascending=False)\n",
        "\n",
        "# Palet warna pastel\n",
        "colors = ['lightblue', 'lightgreen', 'lightcoral', 'lightsalmon', 'lightseagreen']\n",
        "\n",
        "# Membuat grafik batang dengan warna pastel\n",
        "plt.figure(figsize=(10, 6))\n",
        "bars = plt.bar(provinsi_penjualan['provinsi'], provinsi_penjualan['order'], color=colors)\n",
        "plt.xlabel('Provinsi')\n",
        "plt.ylabel('Penjualan Buku')\n",
        "plt.title('Penjualan Buku Berdasarkan Provinsi')\n",
        "plt.xticks(rotation=45)\n",
        "\n",
        "# Menampilkan jumlah penjualan di atas setiap bar\n",
        "for bar in bars:\n",
        "    plt.text(bar.get_x() + bar.get_width() / 2, bar.get_height(), int(bar.get_height()), ha='center', va='bottom')\n",
        "\n",
        "plt.show()"
      ],
      "metadata": {
        "id": "7a0AGBISFZoM"
      },
      "execution_count": null,
      "outputs": []
    },
    {
      "cell_type": "markdown",
      "source": [
        "##penulis potensial"
      ],
      "metadata": {
        "id": "5NEgKjcWFndg"
      }
    },
    {
      "cell_type": "code",
      "source": [
        "# Penjualan Buku tiap Penulis\n",
        "#writer_data['Sales per Book']=writer_data['Total_sales']/writer_data['Number of books']\n",
        "\n",
        "#Identifikasi penulis\n",
        "#potential_writer = writer_data[\n",
        "#    (writer_data['Sales per Book'] > writer_data['Sales per Book'].median())&\n",
        "#    (writer_data['Number of books'] < writer_data['Number of books'].median())\n",
        "#]\n",
        "\n",
        "#Menampilkan top 10 penulis berpotensial berdasarkan penjualan tiap buku\n",
        "#potential_writer.sort_values(by='Sales per Book', ascending=False).head(10)"
      ],
      "metadata": {
        "id": "qGEDOaA-FgAH"
      },
      "execution_count": null,
      "outputs": []
    },
    {
      "cell_type": "code",
      "source": [
        "datates= dfnew.copy()"
      ],
      "metadata": {
        "id": "1Z5m8uG1FjAd"
      },
      "execution_count": null,
      "outputs": []
    },
    {
      "cell_type": "code",
      "source": [
        "datates.head()"
      ],
      "metadata": {
        "id": "Y3deX9nHFzEu"
      },
      "execution_count": null,
      "outputs": []
    },
    {
      "cell_type": "code",
      "source": [
        "# Menghitung rata-rata penjualan buku per judul tiap penulis\n",
        "rata_rata_penjualan_per_judul = datates.groupby(['penulis', 'judul'])['order'].mean().reset_index()\n",
        "\n",
        "# Menghitung jumlah total judul buku tiap penulis\n",
        "jumlah_total_judul = datates.groupby('penulis')['judul'].nunique().reset_index()\n",
        "\n",
        "# Menggabungkan data rata-rata penjualan per judul dan jumlah total judul\n",
        "hasil = rata_rata_penjualan_per_judul.merge(jumlah_total_judul, on='penulis')\n",
        "\n",
        "# Menampilkan penulis yang memiliki rata-rata penjualan buku tinggi per judul dan jumlah total judul rendah\n",
        "penulis_potensial = hasil[\n",
        "    (hasil['order'] > hasil['order'].median()) &\n",
        "    (hasil['judul_y'] < hasil['judul_y'].median())\n",
        "]\n",
        "\n",
        "# Menampilkan top 10 penulis berpotensial\n",
        "print(penulis_potensial)"
      ],
      "metadata": {
        "id": "XWQcbGNSF-dU"
      },
      "execution_count": null,
      "outputs": []
    },
    {
      "cell_type": "code",
      "source": [
        "# Menampilkan top 10 penulis berpotensial\n",
        "top_10_potential_writers = penulis_potensial.head(10)\n",
        "\n",
        "# Membuat bar chart\n",
        "plt.figure(figsize=(10, 6))\n",
        "plt.bar(top_10_potential_writers['penulis'], top_10_potential_writers['order'], color='skyblue')\n",
        "plt.xlabel('Penulis')\n",
        "plt.ylabel('Rata-rata Penjualan per Judul')\n",
        "plt.title('Top 10 Penulis Berpotensial')\n",
        "plt.xticks(rotation=45)\n",
        "plt.tight_layout()\n",
        "\n",
        "# Menampilkan grafik\n",
        "plt.show()"
      ],
      "metadata": {
        "id": "BxwK4tSVGE8C"
      },
      "execution_count": null,
      "outputs": []
    },
    {
      "cell_type": "code",
      "source": [
        "# Mencari baris dengan ID ISBN 978-623-02-0180-6\n",
        "ID_potensial_penulis = datates[datates[\"isbn\"] == \"978-623-02-0180-6\"]\n",
        "\n",
        "# Mencari baris dengan penulis \"Agus Subagyo\"\n",
        "potensial_penulis = datates[datates[\"penulis\"] == \"Agus Subagyo\"]\n",
        "\n",
        "# Menghitung jumlah order\n",
        "jumlah_order = datates[\"order\"].sum()\n",
        "\n",
        "# Menentukan apakah penjualan memiliki potensi\n",
        "pt10_penulis = jumlah_order >= 100\n",
        "\n",
        "# Mencetak hasil\n",
        "if pt10_penulis:\n",
        "    print(\"Penjualan buku dengan penulis Agus Subagyo dan ID ISBN 978-623-02-0180-6 memiliki potensi.\")\n",
        "else:\n",
        "    print(\"Penjualan buku dengan penulis Agus Subagyo dan ID ISBN 978-623-02-0180-6 tidak memiliki potensi.\")"
      ],
      "metadata": {
        "id": "xqzhm6WakXLJ"
      },
      "execution_count": null,
      "outputs": []
    }
  ]
}